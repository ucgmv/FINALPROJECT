{
 "cells": [
  {
   "cell_type": "code",
   "execution_count": null,
   "metadata": {},
   "outputs": [],
   "source": [
    "# This is a sample Python script.\n",
    "\n",
    "# Press Shift+F10 to execute it or replace it with your code.\n",
    "# Press Double Shift to search everywhere for classes, files, tool windows, actions, and settings.\n",
    "\n",
    "import pandas as pd\n",
    "import scipy.io as sc\n",
    "import numpy as np\n",
    "#import openpyxl as op\n",
    "a = pd.read_excel(r'2010+Census+Population+By+Zipcode+(ZCTA).xlsx')\n",
    "#b = pd.read_excel(r\"BACM Annex A.xlsx\")\n",
    "c = pd.read_excel(r\"BACM Disposed.xlsx\", skiprows = 1, usecols=\"B:AK\")\n",
    "#d = pd.read_excel(r\"CS Annex A.xlsx\")\n",
    "e = pd.read_excel(r\"CS Disposed.xlsx\", skiprows = 1, usecols=\"B:AK\")\n",
    "#f = pd.read_excel(r\"JPM Annex A(1).xlsx\")\n",
    "g = pd.read_excel(r\"JPM Disposed.xlsx\", skiprows = 1, usecols=\"B:AK\")\n",
    "#h = pd.read_excel(r\"ML Annex A.xlsx\")\n",
    "i = pd.read_excel(r\"ML Disposed.xlsx\", skiprows = 1, usecols=\"B:AK\")\n",
    "#j = pd.read_excel(r\"SBM Annex A.xlsx\")\n",
    "k = pd.read_excel(r\"SBM Disposed.xlsx\", skiprows = 1, usecols=\"B:AK\")\n",
    "###Read excels\n",
    "\n",
    "\n",
    "lossaux = np.array(sc.loadmat('LOSS.mat')['LOSS'])\n",
    "payaux = np.array(sc.loadmat('PAY.mat')['PAY'])\n",
    "\n",
    "                  \n",
    "loss = pd.DataFrame(lossaux)\n",
    "pay = pd.DataFrame(payaux)\n",
    "columns = ['NOI','DSCR','LTV','Balance','Rate','Fee','Net Mortgage Rate','Year Built','Renovation','Occupancy','ZipPop','CR','CS','CS Ratio','NOI Ratio','PV Ratio','IR']\n",
    "frame = [loss, pay]\n",
    "dataset = pd.concat(frame)\n",
    "\n",
    "\n",
    "\n",
    "#print(a)\n",
    "#print(c)\n",
    "print(dataset.head())\n",
    "\n",
    "print(\"Hello\")"
   ]
  }
 ],
 "metadata": {
  "kernelspec": {
   "display_name": "Python 3",
   "language": "python",
   "name": "python3"
  },
  "language_info": {
   "codemirror_mode": {
    "name": "ipython",
    "version": 3
   },
   "file_extension": ".py",
   "mimetype": "text/x-python",
   "name": "python",
   "nbconvert_exporter": "python",
   "pygments_lexer": "ipython3",
   "version": "3.8.5"
  }
 },
 "nbformat": 4,
 "nbformat_minor": 4
}
