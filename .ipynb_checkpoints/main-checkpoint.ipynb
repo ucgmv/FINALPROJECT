{
 "cells": [
  {
   "cell_type": "code",
   "execution_count": 1,
   "metadata": {},
   "outputs": [
    {
     "name": "stdout",
     "output_type": "stream",
     "text": [
      "             0       1        2           3     4       5       6       7   \\\n",
      "0      697399.0  1.3500  69.4000  7250000.00  5.25  0.0312  5.2188  1998.0   \n",
      "1     1088638.0  1.3600  61.3000  9100000.00  5.52  0.0312  5.4888  1984.0   \n",
      "2      618081.0  1.3100  66.0000  6650000.00  5.45  0.0312  5.4188  2001.0   \n",
      "3      260695.0  1.5500  64.2000  2600000.00  5.21  0.1112  5.0988  1965.0   \n",
      "4      607133.0  1.2600  65.8000  6500000.00  5.29  0.0312  5.2588  1970.0   \n",
      "...         ...     ...      ...         ...   ...     ...     ...     ...   \n",
      "3819   156294.0  1.4442  54.1815  1029447.80  7.40  0.0624  7.3376  1998.0   \n",
      "3820   172837.0  1.3260  61.6591  1257845.64  7.40  0.0624  7.3376  1987.0   \n",
      "3821   104557.0  1.2949  67.2535   823855.65  7.50  0.0624  7.4376  1996.0   \n",
      "3822   737888.0  1.3268  73.3318  5679548.69  8.28  0.0624  8.2176  1971.0   \n",
      "3823   482735.0  1.2779  72.5958  3629791.06  8.35  0.0624  8.2876  1976.0   \n",
      "\n",
      "         8        9         10          11        12        13        14  \\\n",
      "0     100.0  22919.0  7.663725  351.880464  1.136903  4.144921  0.143158   \n",
      "1      95.4  23129.0  8.779339  463.441807  1.502204  4.144921  0.310453   \n",
      "2      87.2  32504.0  7.358107  293.888839  1.076208  4.419219  0.110992   \n",
      "3     100.0  32376.0  7.781940  353.971808  3.315033  4.242222  0.117658   \n",
      "4     100.0  12942.0  7.404061  316.183875  2.961139  4.242222  0.274014   \n",
      "...     ...      ...       ...         ...       ...       ...       ...   \n",
      "3819  100.0  31034.0  8.226000  172.282540  0.932858  6.503175  0.045500   \n",
      "3820  100.0   6765.0  8.472402  228.443321  0.734065  6.187969  0.060435   \n",
      "3821  100.0  33297.0  8.535265  261.089031  0.797066  5.924375  0.027389   \n",
      "3822  100.0  57521.0  9.527282  302.410751  1.125532  6.503175  0.557808   \n",
      "3823  100.0  14366.0  9.654700  357.247778  1.364699  6.082222  0.100925   \n",
      "\n",
      "            15    16  \n",
      "0     0.127688   5.0  \n",
      "1     0.242793  21.0  \n",
      "2     0.101224   2.0  \n",
      "3     0.080235  40.0  \n",
      "4     0.196397   4.0  \n",
      "...        ...   ...  \n",
      "3819  0.041596   2.0  \n",
      "3820  0.059577  10.0  \n",
      "3821  0.024308   3.0  \n",
      "3822  0.509199   2.0  \n",
      "3823  0.081205   2.0  \n",
      "\n",
      "[4793 rows x 17 columns]\n",
      "Hello\n"
     ]
    }
   ],
   "source": [
    "# This is a sample Python script.\n",
    "\n",
    "# Press Shift+F10 to execute it or replace it with your code.\n",
    "# Press Double Shift to search everywhere for classes, files, tool windows, actions, and settings.\n",
    "\n",
    "import pandas as pd\n",
    "import scipy.io as sc\n",
    "import numpy as np\n",
    "#import openpyxl as op\n",
    "a = pd.read_excel(r'2010+Census+Population+By+Zipcode+(ZCTA).xlsx')\n",
    "#b = pd.read_excel(r\"BACM Annex A.xlsx\")\n",
    "c = pd.read_excel(r\"BACM Disposed.xlsx\", skiprows = 1, usecols=\"B:AK\")\n",
    "#d = pd.read_excel(r\"CS Annex A.xlsx\")\n",
    "e = pd.read_excel(r\"CS Disposed.xlsx\", skiprows = 1, usecols=\"B:AK\")\n",
    "#f = pd.read_excel(r\"JPM Annex A(1).xlsx\")\n",
    "g = pd.read_excel(r\"JPM Disposed.xlsx\", skiprows = 1, usecols=\"B:AK\")\n",
    "#h = pd.read_excel(r\"ML Annex A.xlsx\")\n",
    "i = pd.read_excel(r\"ML Disposed.xlsx\", skiprows = 1, usecols=\"B:AK\")\n",
    "#j = pd.read_excel(r\"SBM Annex A.xlsx\")\n",
    "k = pd.read_excel(r\"SBM Disposed.xlsx\", skiprows = 1, usecols=\"B:AK\")\n",
    "###Read excels\n",
    "\n",
    "\n",
    "lossaux = np.array(sc.loadmat('LOSS.mat')['LOSS'])\n",
    "payaux = np.array(sc.loadmat('PAY.mat')['PAY'])\n",
    "\n",
    "                  \n",
    "loss = pd.DataFrame(lossaux)\n",
    "pay = pd.DataFrame(payaux)\n",
    "columns = ['NOI','DSCR','LTV','Balance','Rate','Fee','Net Mortgage Rate','Year Built','Renovation','Occupancy','ZipPop','CR','CS','CS Ratio','NOI Ratio','PV Ratio','IR']\n",
    "frame = [loss, pay]\n",
    "dataset = pd.concat(frame)\n",
    "\n",
    "\n",
    "\n",
    "#print(a)\n",
    "#print(c)\n",
    "print(dataset)\n",
    "\n",
    "print(\"Hello\")"
   ]
  },
  {
   "cell_type": "code",
   "execution_count": null,
   "metadata": {},
   "outputs": [],
   "source": []
  }
 ],
 "metadata": {
  "kernelspec": {
   "display_name": "Python 3",
   "language": "python",
   "name": "python3"
  },
  "language_info": {
   "codemirror_mode": {
    "name": "ipython",
    "version": 3
   },
   "file_extension": ".py",
   "mimetype": "text/x-python",
   "name": "python",
   "nbconvert_exporter": "python",
   "pygments_lexer": "ipython3",
   "version": "3.8.5"
  }
 },
 "nbformat": 4,
 "nbformat_minor": 4
}
