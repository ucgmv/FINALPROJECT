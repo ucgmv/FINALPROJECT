import pandas as pd
import scipy.io as sc
import numpy as np
import matplotlib.pyplot as plt
import seaborn as sns
#import openpyxl as op

#import all the libraries
lossaux = np.array(sc.loadmat('LOSS.mat')['LOSS'])
payaux = np.array(sc.loadmat('PAY.mat')['PAY'])

                  
loss = pd.DataFrame(lossaux)
loss.insert(len(loss.columns), 'Loss', 1)
pay = pd.DataFrame(payaux, index =range(969,4793))
pay.insert(len(pay.columns), 'Loss', 0)
columns = ['NOI','DSCR','LTV','Balance','Rate','Fee','Net Mortgage Rate','Year Built','Renovation','Occupancy','ZipPop','CR','CS','CS Ratio','NOI Ratio','PV Ratio','IR', 'Loss']
frame = [loss, pay]
dataset = pd.concat(frame)
dataset.columns = columns
print(dataset)

corr = dataset.corr()
ax = sns.heatmap(corr, linewidth=0.5)
plt.show()

### Read Matlab files
