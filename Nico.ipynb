{
 "cells": [
  {
   "cell_type": "code",
   "execution_count": null,
   "metadata": {},
   "outputs": [],
   "source": [
    "import pandas as pd"
   ]
  },
  {
   "cell_type": "code",
   "execution_count": null,
   "metadata": {},
   "outputs": [],
   "source": [
    "import numpy as np"
   ]
  },
  {
   "cell_type": "code",
   "execution_count": 9,
   "metadata": {},
   "outputs": [],
   "source": [
    "import matplotlib.pyplot as plt"
   ]
  },
  {
   "cell_type": "code",
   "execution_count": 4,
   "metadata": {},
   "outputs": [],
   "source": [
    "import seaborn as sns"
   ]
  },
  {
   "cell_type": "code",
   "execution_count": 5,
   "metadata": {},
   "outputs": [],
   "source": [
    "import sklearn as sk"
   ]
  },
  {
   "cell_type": "code",
   "execution_count": 6,
   "metadata": {},
   "outputs": [],
   "source": [
    "import scipy.io as sc"
   ]
  },
  {
   "cell_type": "code",
   "execution_count": 10,
   "metadata": {},
   "outputs": [
    {
     "data": {
      "text/html": [
       "<div>\n",
       "<style scoped>\n",
       "    .dataframe tbody tr th:only-of-type {\n",
       "        vertical-align: middle;\n",
       "    }\n",
       "\n",
       "    .dataframe tbody tr th {\n",
       "        vertical-align: top;\n",
       "    }\n",
       "\n",
       "    .dataframe thead th {\n",
       "        text-align: right;\n",
       "    }\n",
       "</style>\n",
       "<table border=\"1\" class=\"dataframe\">\n",
       "  <thead>\n",
       "    <tr style=\"text-align: right;\">\n",
       "      <th></th>\n",
       "      <th>NOI</th>\n",
       "      <th>DSCR</th>\n",
       "      <th>LTV</th>\n",
       "      <th>Balance</th>\n",
       "      <th>Rate</th>\n",
       "      <th>Fee</th>\n",
       "      <th>Net Mortgage Rate</th>\n",
       "      <th>Year Built</th>\n",
       "      <th>Renovation</th>\n",
       "      <th>Occupancy</th>\n",
       "      <th>ZipPop</th>\n",
       "      <th>CR</th>\n",
       "      <th>CS</th>\n",
       "      <th>CS Ratio</th>\n",
       "      <th>NOI Ratio</th>\n",
       "      <th>PV Ratio</th>\n",
       "      <th>IR</th>\n",
       "      <th>Loss</th>\n",
       "    </tr>\n",
       "  </thead>\n",
       "  <tbody>\n",
       "    <tr>\n",
       "      <th>0</th>\n",
       "      <td>697399.0</td>\n",
       "      <td>1.35</td>\n",
       "      <td>69.4</td>\n",
       "      <td>7250000.0</td>\n",
       "      <td>5.25</td>\n",
       "      <td>0.0312</td>\n",
       "      <td>5.2188</td>\n",
       "      <td>1998.0</td>\n",
       "      <td>100.0</td>\n",
       "      <td>22919.0</td>\n",
       "      <td>7.663725</td>\n",
       "      <td>351.880464</td>\n",
       "      <td>1.136903</td>\n",
       "      <td>4.144921</td>\n",
       "      <td>0.143158</td>\n",
       "      <td>0.127688</td>\n",
       "      <td>5.0</td>\n",
       "      <td>1</td>\n",
       "    </tr>\n",
       "    <tr>\n",
       "      <th>1</th>\n",
       "      <td>1088638.0</td>\n",
       "      <td>1.36</td>\n",
       "      <td>61.3</td>\n",
       "      <td>9100000.0</td>\n",
       "      <td>5.52</td>\n",
       "      <td>0.0312</td>\n",
       "      <td>5.4888</td>\n",
       "      <td>1984.0</td>\n",
       "      <td>95.4</td>\n",
       "      <td>23129.0</td>\n",
       "      <td>8.779339</td>\n",
       "      <td>463.441807</td>\n",
       "      <td>1.502204</td>\n",
       "      <td>4.144921</td>\n",
       "      <td>0.310453</td>\n",
       "      <td>0.242793</td>\n",
       "      <td>21.0</td>\n",
       "      <td>1</td>\n",
       "    </tr>\n",
       "    <tr>\n",
       "      <th>2</th>\n",
       "      <td>618081.0</td>\n",
       "      <td>1.31</td>\n",
       "      <td>66.0</td>\n",
       "      <td>6650000.0</td>\n",
       "      <td>5.45</td>\n",
       "      <td>0.0312</td>\n",
       "      <td>5.4188</td>\n",
       "      <td>2001.0</td>\n",
       "      <td>87.2</td>\n",
       "      <td>32504.0</td>\n",
       "      <td>7.358107</td>\n",
       "      <td>293.888839</td>\n",
       "      <td>1.076208</td>\n",
       "      <td>4.419219</td>\n",
       "      <td>0.110992</td>\n",
       "      <td>0.101224</td>\n",
       "      <td>2.0</td>\n",
       "      <td>1</td>\n",
       "    </tr>\n",
       "    <tr>\n",
       "      <th>3</th>\n",
       "      <td>260695.0</td>\n",
       "      <td>1.55</td>\n",
       "      <td>64.2</td>\n",
       "      <td>2600000.0</td>\n",
       "      <td>5.21</td>\n",
       "      <td>0.1112</td>\n",
       "      <td>5.0988</td>\n",
       "      <td>1965.0</td>\n",
       "      <td>100.0</td>\n",
       "      <td>32376.0</td>\n",
       "      <td>7.781940</td>\n",
       "      <td>353.971808</td>\n",
       "      <td>3.315033</td>\n",
       "      <td>4.242222</td>\n",
       "      <td>0.117658</td>\n",
       "      <td>0.080235</td>\n",
       "      <td>40.0</td>\n",
       "      <td>1</td>\n",
       "    </tr>\n",
       "    <tr>\n",
       "      <th>4</th>\n",
       "      <td>607133.0</td>\n",
       "      <td>1.26</td>\n",
       "      <td>65.8</td>\n",
       "      <td>6500000.0</td>\n",
       "      <td>5.29</td>\n",
       "      <td>0.0312</td>\n",
       "      <td>5.2588</td>\n",
       "      <td>1970.0</td>\n",
       "      <td>100.0</td>\n",
       "      <td>12942.0</td>\n",
       "      <td>7.404061</td>\n",
       "      <td>316.183875</td>\n",
       "      <td>2.961139</td>\n",
       "      <td>4.242222</td>\n",
       "      <td>0.274014</td>\n",
       "      <td>0.196397</td>\n",
       "      <td>4.0</td>\n",
       "      <td>1</td>\n",
       "    </tr>\n",
       "  </tbody>\n",
       "</table>\n",
       "</div>"
      ],
      "text/plain": [
       "         NOI  DSCR   LTV    Balance  Rate     Fee  Net Mortgage Rate  \\\n",
       "0   697399.0  1.35  69.4  7250000.0  5.25  0.0312             5.2188   \n",
       "1  1088638.0  1.36  61.3  9100000.0  5.52  0.0312             5.4888   \n",
       "2   618081.0  1.31  66.0  6650000.0  5.45  0.0312             5.4188   \n",
       "3   260695.0  1.55  64.2  2600000.0  5.21  0.1112             5.0988   \n",
       "4   607133.0  1.26  65.8  6500000.0  5.29  0.0312             5.2588   \n",
       "\n",
       "   Year Built  Renovation  Occupancy    ZipPop          CR        CS  \\\n",
       "0      1998.0       100.0    22919.0  7.663725  351.880464  1.136903   \n",
       "1      1984.0        95.4    23129.0  8.779339  463.441807  1.502204   \n",
       "2      2001.0        87.2    32504.0  7.358107  293.888839  1.076208   \n",
       "3      1965.0       100.0    32376.0  7.781940  353.971808  3.315033   \n",
       "4      1970.0       100.0    12942.0  7.404061  316.183875  2.961139   \n",
       "\n",
       "   CS Ratio  NOI Ratio  PV Ratio    IR  Loss  \n",
       "0  4.144921   0.143158  0.127688   5.0     1  \n",
       "1  4.144921   0.310453  0.242793  21.0     1  \n",
       "2  4.419219   0.110992  0.101224   2.0     1  \n",
       "3  4.242222   0.117658  0.080235  40.0     1  \n",
       "4  4.242222   0.274014  0.196397   4.0     1  "
      ]
     },
     "execution_count": 10,
     "metadata": {},
     "output_type": "execute_result"
    }
   ],
   "source": [
    "lossaux = np.array(sc.loadmat('LOSS.mat')['LOSS'])\n",
    "payaux = np.array(sc.loadmat('PAY.mat')['PAY'])\n",
    "\n",
    "                  \n",
    "loss = pd.DataFrame(lossaux)\n",
    "loss.insert(len(loss.columns), 'Loss', 1)\n",
    "pay = pd.DataFrame(payaux, index =range(969,4793))\n",
    "pay.insert(len(pay.columns), 'Loss', 0)\n",
    "columns = ['NOI','DSCR','LTV','Balance','Rate','Fee','Net Mortgage Rate','Year Built','Renovation','Occupancy','ZipPop','CR','CS','CS Ratio','NOI Ratio','PV Ratio','IR', 'Loss']\n",
    "frame = [loss, pay]\n",
    "dataset = pd.concat(frame)\n",
    "dataset.columns = columns\n",
    "dataset.head()"
   ]
  },
  {
   "cell_type": "code",
   "execution_count": 11,
   "metadata": {},
   "outputs": [
    {
     "data": {
      "image/png": "[encoded data removed]",
      "text/plain": [
       "<Figure size 432x288 with 2 Axes>"
      ]
     },
     "metadata": {
      "needs_background": "light"
     },
     "output_type": "display_data"
    }
   ],
   "source": [
    "corr = dataset.corr()\n",
    "ax = sns.heatmap(corr, linewidth=0.5)\n",
    "plt.show()"
   ]
  },
  {
   "cell_type": "code",
   "execution_count": 9,
   "metadata": {},
   "outputs": [],
   "source": [
    "import matplotlib.pyplot as plt"
   ]
  },
  {
   "cell_type": "code",
   "execution_count": 10,
   "metadata": {},
   "outputs": [
    {
     "data": {
      "image/png": "[encoded data removed]",
      "text/plain": [
       "<Figure size 432x288 with 2 Axes>"
      ]
     },
     "metadata": {
      "needs_background": "light"
     },
     "output_type": "display_data"
    }
   ],
   "source": [
    "corr = dataset.corr()\n",
    "ax = sns.heatmap(corr, linewidth=0.5)\n",
    "plt.show()"
   ]
  },
  {
   "cell_type": "code",
   "execution_count": 11,
   "metadata": {},
   "outputs": [
    {
     "ename": "TypeError",
     "evalue": "'Series' objects are mutable, thus they cannot be hashed",
     "output_type": "error",
     "traceback": [
      "\u001b[1;31m---------------------------------------------------------------------------\u001b[0m",
      "\u001b[1;31mTypeError\u001b[0m                                 Traceback (most recent call last)",
      "\u001b[1;32m<ipython-input-11-0e4703670433>\u001b[0m in \u001b[0;36m<module>\u001b[1;34m\u001b[0m\n\u001b[0;32m     39\u001b[0m     \u001b[0mmodel\u001b[0m \u001b[1;33m=\u001b[0m \u001b[0msmf\u001b[0m\u001b[1;33m.\u001b[0m\u001b[0mols\u001b[0m\u001b[1;33m(\u001b[0m\u001b[0mformula\u001b[0m\u001b[1;33m,\u001b[0m \u001b[0mdata\u001b[0m\u001b[1;33m)\u001b[0m\u001b[1;33m.\u001b[0m\u001b[0mfit\u001b[0m\u001b[1;33m(\u001b[0m\u001b[1;33m)\u001b[0m\u001b[1;33m\u001b[0m\u001b[1;33m\u001b[0m\u001b[0m\n\u001b[0;32m     40\u001b[0m     \u001b[1;32mreturn\u001b[0m \u001b[0mmodel\u001b[0m\u001b[1;33m\u001b[0m\u001b[1;33m\u001b[0m\u001b[0m\n\u001b[1;32m---> 41\u001b[1;33m \u001b[0mforward_selected\u001b[0m\u001b[1;33m(\u001b[0m\u001b[0mdataset\u001b[0m\u001b[1;33m,\u001b[0m\u001b[0mdataset\u001b[0m\u001b[1;33m[\u001b[0m\u001b[1;34m'Loss'\u001b[0m\u001b[1;33m]\u001b[0m\u001b[1;33m)\u001b[0m\u001b[1;33m\u001b[0m\u001b[1;33m\u001b[0m\u001b[0m\n\u001b[0m",
      "\u001b[1;32m<ipython-input-11-0e4703670433>\u001b[0m in \u001b[0;36mforward_selected\u001b[1;34m(data, response)\u001b[0m\n\u001b[0;32m     19\u001b[0m     \"\"\"\n\u001b[0;32m     20\u001b[0m     \u001b[0mremaining\u001b[0m \u001b[1;33m=\u001b[0m \u001b[0mset\u001b[0m\u001b[1;33m(\u001b[0m\u001b[0mdata\u001b[0m\u001b[1;33m.\u001b[0m\u001b[0mcolumns\u001b[0m\u001b[1;33m)\u001b[0m\u001b[1;33m\u001b[0m\u001b[1;33m\u001b[0m\u001b[0m\n\u001b[1;32m---> 21\u001b[1;33m     \u001b[0mremaining\u001b[0m\u001b[1;33m.\u001b[0m\u001b[0mremove\u001b[0m\u001b[1;33m(\u001b[0m\u001b[0mresponse\u001b[0m\u001b[1;33m)\u001b[0m\u001b[1;33m\u001b[0m\u001b[1;33m\u001b[0m\u001b[0m\n\u001b[0m\u001b[0;32m     22\u001b[0m     \u001b[0mselected\u001b[0m \u001b[1;33m=\u001b[0m \u001b[1;33m[\u001b[0m\u001b[1;33m]\u001b[0m\u001b[1;33m\u001b[0m\u001b[1;33m\u001b[0m\u001b[0m\n\u001b[0;32m     23\u001b[0m     \u001b[0mcurrent_score\u001b[0m\u001b[1;33m,\u001b[0m \u001b[0mbest_new_score\u001b[0m \u001b[1;33m=\u001b[0m \u001b[1;36m0.0\u001b[0m\u001b[1;33m,\u001b[0m \u001b[1;36m0.0\u001b[0m\u001b[1;33m\u001b[0m\u001b[1;33m\u001b[0m\u001b[0m\n",
      "\u001b[1;32m~\\anaconda3\\lib\\site-packages\\pandas\\core\\generic.py\u001b[0m in \u001b[0;36m__hash__\u001b[1;34m(self)\u001b[0m\n\u001b[0;32m   1666\u001b[0m \u001b[1;33m\u001b[0m\u001b[0m\n\u001b[0;32m   1667\u001b[0m     \u001b[1;32mdef\u001b[0m \u001b[0m__hash__\u001b[0m\u001b[1;33m(\u001b[0m\u001b[0mself\u001b[0m\u001b[1;33m)\u001b[0m\u001b[1;33m:\u001b[0m\u001b[1;33m\u001b[0m\u001b[1;33m\u001b[0m\u001b[0m\n\u001b[1;32m-> 1668\u001b[1;33m         raise TypeError(\n\u001b[0m\u001b[0;32m   1669\u001b[0m             \u001b[1;34mf\"{repr(type(self).__name__)} objects are mutable, \"\u001b[0m\u001b[1;33m\u001b[0m\u001b[1;33m\u001b[0m\u001b[0m\n\u001b[0;32m   1670\u001b[0m             \u001b[1;34mf\"thus they cannot be hashed\"\u001b[0m\u001b[1;33m\u001b[0m\u001b[1;33m\u001b[0m\u001b[0m\n",
      "\u001b[1;31mTypeError\u001b[0m: 'Series' objects are mutable, thus they cannot be hashed"
     ]
    }
   ],
   "source": [
    "import statsmodels.formula.api as smf\n",
    "\n",
    "\n",
    "def forward_selected(data, response):\n",
    "    \"\"\"Linear model designed by forward selection.\n",
    "\n",
    "    Parameters:\n",
    "    -----------\n",
    "    data : pandas DataFrame with all possible predictors and response\n",
    "\n",
    "    response: string, name of response column in data\n",
    "\n",
    "    Returns:\n",
    "    --------\n",
    "    model: an \"optimal\" fitted statsmodels linear model\n",
    "           with an intercept\n",
    "           selected by forward selection\n",
    "           evaluated by adjusted R-squared\n",
    "    \"\"\"\n",
    "    remaining = set(data.columns)\n",
    "    remaining.remove(response)\n",
    "    selected = []\n",
    "    current_score, best_new_score = 0.0, 0.0\n",
    "    while remaining and current_score == best_new_score:\n",
    "        scores_with_candidates = []\n",
    "        for candidate in remaining:\n",
    "            formula = \"{} ~ {} + 1\".format(response,\n",
    "                                           ' + '.join(selected + [candidate]))\n",
    "            score = smf.ols(formula, data).fit().rsquared_adj\n",
    "            scores_with_candidates.append((score, candidate))\n",
    "        scores_with_candidates.sort()\n",
    "        best_new_score, best_candidate = scores_with_candidates.pop()\n",
    "        if current_score < best_new_score:\n",
    "            remaining.remove(best_candidate)\n",
    "            selected.append(best_candidate)\n",
    "            current_score = best_new_score\n",
    "    formula = \"{} ~ {} + 1\".format(response,\n",
    "                                   ' + '.join(selected))\n",
    "    model = smf.ols(formula, data).fit()\n",
    "    return model\n",
    "forward_selected(dataset,dataset['Loss'])"
   ]
  },
  {
   "cell_type": "code",
   "execution_count": 12,
   "metadata": {},
   "outputs": [
    {
     "ename": "SyntaxError",
     "evalue": "invalid syntax (<unknown>, line 1)",
     "output_type": "error",
     "traceback": [
      "Traceback \u001b[1;36m(most recent call last)\u001b[0m:\n",
      "  File \u001b[0;32m\"C:\\Users\\User\\anaconda3\\lib\\site-packages\\IPython\\core\\interactiveshell.py\"\u001b[0m, line \u001b[0;32m3418\u001b[0m, in \u001b[0;35mrun_code\u001b[0m\n    exec(code_obj, self.user_global_ns, self.user_ns)\n",
      "  File \u001b[0;32m\"<ipython-input-12-b8c47b23c8c5>\"\u001b[0m, line \u001b[0;32m1\u001b[0m, in \u001b[0;35m<module>\u001b[0m\n    forward_selected(dataset, 'Loss')\n",
      "  File \u001b[0;32m\"<ipython-input-11-0e4703670433>\"\u001b[0m, line \u001b[0;32m29\u001b[0m, in \u001b[0;35mforward_selected\u001b[0m\n    score = smf.ols(formula, data).fit().rsquared_adj\n",
      "  File \u001b[0;32m\"C:\\Users\\User\\anaconda3\\lib\\site-packages\\statsmodels\\base\\model.py\"\u001b[0m, line \u001b[0;32m169\u001b[0m, in \u001b[0;35mfrom_formula\u001b[0m\n    tmp = handle_formula_data(data, None, formula, depth=eval_env,\n",
      "  File \u001b[0;32m\"C:\\Users\\User\\anaconda3\\lib\\site-packages\\statsmodels\\formula\\formulatools.py\"\u001b[0m, line \u001b[0;32m63\u001b[0m, in \u001b[0;35mhandle_formula_data\u001b[0m\n    result = dmatrices(formula, Y, depth, return_type='dataframe',\n",
      "  File \u001b[0;32m\"C:\\Users\\User\\anaconda3\\lib\\site-packages\\patsy\\highlevel.py\"\u001b[0m, line \u001b[0;32m309\u001b[0m, in \u001b[0;35mdmatrices\u001b[0m\n    (lhs, rhs) = _do_highlevel_design(formula_like, data, eval_env,\n",
      "  File \u001b[0;32m\"C:\\Users\\User\\anaconda3\\lib\\site-packages\\patsy\\highlevel.py\"\u001b[0m, line \u001b[0;32m164\u001b[0m, in \u001b[0;35m_do_highlevel_design\u001b[0m\n    design_infos = _try_incr_builders(formula_like, data_iter_maker, eval_env,\n",
      "  File \u001b[0;32m\"C:\\Users\\User\\anaconda3\\lib\\site-packages\\patsy\\highlevel.py\"\u001b[0m, line \u001b[0;32m66\u001b[0m, in \u001b[0;35m_try_incr_builders\u001b[0m\n    return design_matrix_builders([formula_like.lhs_termlist,\n",
      "  File \u001b[0;32m\"C:\\Users\\User\\anaconda3\\lib\\site-packages\\patsy\\build.py\"\u001b[0m, line \u001b[0;32m689\u001b[0m, in \u001b[0;35mdesign_matrix_builders\u001b[0m\n    factor_states = _factors_memorize(all_factors, data_iter_maker, eval_env)\n",
      "  File \u001b[0;32m\"C:\\Users\\User\\anaconda3\\lib\\site-packages\\patsy\\build.py\"\u001b[0m, line \u001b[0;32m354\u001b[0m, in \u001b[0;35m_factors_memorize\u001b[0m\n    which_pass = factor.memorize_passes_needed(state, eval_env)\n",
      "  File \u001b[0;32m\"C:\\Users\\User\\anaconda3\\lib\\site-packages\\patsy\\eval.py\"\u001b[0m, line \u001b[0;32m474\u001b[0m, in \u001b[0;35mmemorize_passes_needed\u001b[0m\n    subset_names = [name for name in ast_names(self.code)\n",
      "  File \u001b[0;32m\"C:\\Users\\User\\anaconda3\\lib\\site-packages\\patsy\\eval.py\"\u001b[0m, line \u001b[0;32m474\u001b[0m, in \u001b[0;35m<listcomp>\u001b[0m\n    subset_names = [name for name in ast_names(self.code)\n",
      "  File \u001b[0;32m\"C:\\Users\\User\\anaconda3\\lib\\site-packages\\patsy\\eval.py\"\u001b[0m, line \u001b[0;32m105\u001b[0m, in \u001b[0;35mast_names\u001b[0m\n    for node in ast.walk(ast.parse(code)):\n",
      "\u001b[1;36m  File \u001b[1;32m\"C:\\Users\\User\\anaconda3\\lib\\ast.py\"\u001b[1;36m, line \u001b[1;32m47\u001b[1;36m, in \u001b[1;35mparse\u001b[1;36m\u001b[0m\n\u001b[1;33m    return compile(source, filename, mode, flags,\u001b[0m\n",
      "\u001b[1;36m  File \u001b[1;32m\"<unknown>\"\u001b[1;36m, line \u001b[1;32m1\u001b[0m\n\u001b[1;33m    CS Ratio\u001b[0m\n\u001b[1;37m       ^\u001b[0m\n\u001b[1;31mSyntaxError\u001b[0m\u001b[1;31m:\u001b[0m invalid syntax\n"
     ]
    }
   ],
   "source": [
    "forward_selected(dataset, 'Loss')"
   ]
  },
  {
   "cell_type": "code",
   "execution_count": 13,
   "metadata": {},
   "outputs": [
    {
     "ename": "KeyError",
     "evalue": "1",
     "output_type": "error",
     "traceback": [
      "\u001b[1;31m---------------------------------------------------------------------------\u001b[0m",
      "\u001b[1;31mKeyError\u001b[0m                                  Traceback (most recent call last)",
      "\u001b[1;32m~\\anaconda3\\lib\\site-packages\\pandas\\core\\indexes\\base.py\u001b[0m in \u001b[0;36mget_loc\u001b[1;34m(self, key, method, tolerance)\u001b[0m\n\u001b[0;32m   2894\u001b[0m             \u001b[1;32mtry\u001b[0m\u001b[1;33m:\u001b[0m\u001b[1;33m\u001b[0m\u001b[1;33m\u001b[0m\u001b[0m\n\u001b[1;32m-> 2895\u001b[1;33m                 \u001b[1;32mreturn\u001b[0m \u001b[0mself\u001b[0m\u001b[1;33m.\u001b[0m\u001b[0m_engine\u001b[0m\u001b[1;33m.\u001b[0m\u001b[0mget_loc\u001b[0m\u001b[1;33m(\u001b[0m\u001b[0mcasted_key\u001b[0m\u001b[1;33m)\u001b[0m\u001b[1;33m\u001b[0m\u001b[1;33m\u001b[0m\u001b[0m\n\u001b[0m\u001b[0;32m   2896\u001b[0m             \u001b[1;32mexcept\u001b[0m \u001b[0mKeyError\u001b[0m \u001b[1;32mas\u001b[0m \u001b[0merr\u001b[0m\u001b[1;33m:\u001b[0m\u001b[1;33m\u001b[0m\u001b[1;33m\u001b[0m\u001b[0m\n",
      "\u001b[1;32mpandas\\_libs\\index.pyx\u001b[0m in \u001b[0;36mpandas._libs.index.IndexEngine.get_loc\u001b[1;34m()\u001b[0m\n",
      "\u001b[1;32mpandas\\_libs\\index.pyx\u001b[0m in \u001b[0;36mpandas._libs.index.IndexEngine.get_loc\u001b[1;34m()\u001b[0m\n",
      "\u001b[1;32mpandas\\_libs\\hashtable_class_helper.pxi\u001b[0m in \u001b[0;36mpandas._libs.hashtable.PyObjectHashTable.get_item\u001b[1;34m()\u001b[0m\n",
      "\u001b[1;32mpandas\\_libs\\hashtable_class_helper.pxi\u001b[0m in \u001b[0;36mpandas._libs.hashtable.PyObjectHashTable.get_item\u001b[1;34m()\u001b[0m\n",
      "\u001b[1;31mKeyError\u001b[0m: 1",
      "\nThe above exception was the direct cause of the following exception:\n",
      "\u001b[1;31mKeyError\u001b[0m                                  Traceback (most recent call last)",
      "\u001b[1;32m<ipython-input-13-788cd147c710>\u001b[0m in \u001b[0;36m<module>\u001b[1;34m\u001b[0m\n\u001b[1;32m----> 1\u001b[1;33m \u001b[0mprint\u001b[0m\u001b[1;33m(\u001b[0m\u001b[0mdataset\u001b[0m\u001b[1;33m[\u001b[0m\u001b[1;36m1\u001b[0m\u001b[1;33m]\u001b[0m\u001b[1;33m)\u001b[0m\u001b[1;33m\u001b[0m\u001b[1;33m\u001b[0m\u001b[0m\n\u001b[0m",
      "\u001b[1;32m~\\anaconda3\\lib\\site-packages\\pandas\\core\\frame.py\u001b[0m in \u001b[0;36m__getitem__\u001b[1;34m(self, key)\u001b[0m\n\u001b[0;32m   2900\u001b[0m             \u001b[1;32mif\u001b[0m \u001b[0mself\u001b[0m\u001b[1;33m.\u001b[0m\u001b[0mcolumns\u001b[0m\u001b[1;33m.\u001b[0m\u001b[0mnlevels\u001b[0m \u001b[1;33m>\u001b[0m \u001b[1;36m1\u001b[0m\u001b[1;33m:\u001b[0m\u001b[1;33m\u001b[0m\u001b[1;33m\u001b[0m\u001b[0m\n\u001b[0;32m   2901\u001b[0m                 \u001b[1;32mreturn\u001b[0m \u001b[0mself\u001b[0m\u001b[1;33m.\u001b[0m\u001b[0m_getitem_multilevel\u001b[0m\u001b[1;33m(\u001b[0m\u001b[0mkey\u001b[0m\u001b[1;33m)\u001b[0m\u001b[1;33m\u001b[0m\u001b[1;33m\u001b[0m\u001b[0m\n\u001b[1;32m-> 2902\u001b[1;33m             \u001b[0mindexer\u001b[0m \u001b[1;33m=\u001b[0m \u001b[0mself\u001b[0m\u001b[1;33m.\u001b[0m\u001b[0mcolumns\u001b[0m\u001b[1;33m.\u001b[0m\u001b[0mget_loc\u001b[0m\u001b[1;33m(\u001b[0m\u001b[0mkey\u001b[0m\u001b[1;33m)\u001b[0m\u001b[1;33m\u001b[0m\u001b[1;33m\u001b[0m\u001b[0m\n\u001b[0m\u001b[0;32m   2903\u001b[0m             \u001b[1;32mif\u001b[0m \u001b[0mis_integer\u001b[0m\u001b[1;33m(\u001b[0m\u001b[0mindexer\u001b[0m\u001b[1;33m)\u001b[0m\u001b[1;33m:\u001b[0m\u001b[1;33m\u001b[0m\u001b[1;33m\u001b[0m\u001b[0m\n\u001b[0;32m   2904\u001b[0m                 \u001b[0mindexer\u001b[0m \u001b[1;33m=\u001b[0m \u001b[1;33m[\u001b[0m\u001b[0mindexer\u001b[0m\u001b[1;33m]\u001b[0m\u001b[1;33m\u001b[0m\u001b[1;33m\u001b[0m\u001b[0m\n",
      "\u001b[1;32m~\\anaconda3\\lib\\site-packages\\pandas\\core\\indexes\\base.py\u001b[0m in \u001b[0;36mget_loc\u001b[1;34m(self, key, method, tolerance)\u001b[0m\n\u001b[0;32m   2895\u001b[0m                 \u001b[1;32mreturn\u001b[0m \u001b[0mself\u001b[0m\u001b[1;33m.\u001b[0m\u001b[0m_engine\u001b[0m\u001b[1;33m.\u001b[0m\u001b[0mget_loc\u001b[0m\u001b[1;33m(\u001b[0m\u001b[0mcasted_key\u001b[0m\u001b[1;33m)\u001b[0m\u001b[1;33m\u001b[0m\u001b[1;33m\u001b[0m\u001b[0m\n\u001b[0;32m   2896\u001b[0m             \u001b[1;32mexcept\u001b[0m \u001b[0mKeyError\u001b[0m \u001b[1;32mas\u001b[0m \u001b[0merr\u001b[0m\u001b[1;33m:\u001b[0m\u001b[1;33m\u001b[0m\u001b[1;33m\u001b[0m\u001b[0m\n\u001b[1;32m-> 2897\u001b[1;33m                 \u001b[1;32mraise\u001b[0m \u001b[0mKeyError\u001b[0m\u001b[1;33m(\u001b[0m\u001b[0mkey\u001b[0m\u001b[1;33m)\u001b[0m \u001b[1;32mfrom\u001b[0m \u001b[0merr\u001b[0m\u001b[1;33m\u001b[0m\u001b[1;33m\u001b[0m\u001b[0m\n\u001b[0m\u001b[0;32m   2898\u001b[0m \u001b[1;33m\u001b[0m\u001b[0m\n\u001b[0;32m   2899\u001b[0m         \u001b[1;32mif\u001b[0m \u001b[0mtolerance\u001b[0m \u001b[1;32mis\u001b[0m \u001b[1;32mnot\u001b[0m \u001b[1;32mNone\u001b[0m\u001b[1;33m:\u001b[0m\u001b[1;33m\u001b[0m\u001b[1;33m\u001b[0m\u001b[0m\n",
      "\u001b[1;31mKeyError\u001b[0m: 1"
     ]
    }
   ],
   "source": [
    "print(dataset[1])"
   ]
  },
  {
   "cell_type": "code",
   "execution_count": 14,
   "metadata": {},
   "outputs": [
    {
     "ename": "NameError",
     "evalue": "name 'datasets' is not defined",
     "output_type": "error",
     "traceback": [
      "\u001b[1;31m---------------------------------------------------------------------------\u001b[0m",
      "\u001b[1;31mNameError\u001b[0m                                 Traceback (most recent call last)",
      "\u001b[1;32m<ipython-input-14-bae912d924ed>\u001b[0m in \u001b[0;36m<module>\u001b[1;34m\u001b[0m\n\u001b[1;32m----> 1\u001b[1;33m \u001b[0mprint\u001b[0m\u001b[1;33m(\u001b[0m\u001b[0mdatasets\u001b[0m\u001b[1;33m.\u001b[0m\u001b[0mkeys\u001b[0m\u001b[1;33m)\u001b[0m\u001b[1;33m\u001b[0m\u001b[1;33m\u001b[0m\u001b[0m\n\u001b[0m",
      "\u001b[1;31mNameError\u001b[0m: name 'datasets' is not defined"
     ]
    }
   ],
   "source": [
    "print(datasets.keys)"
   ]
  },
  {
   "cell_type": "code",
   "execution_count": 15,
   "metadata": {},
   "outputs": [
    {
     "name": "stdout",
     "output_type": "stream",
     "text": [
      "<bound method NDFrame.keys of             NOI    DSCR      LTV     Balance  Rate     Fee  Net Mortgage Rate  \\\n",
      "0      697399.0  1.3500  69.4000  7250000.00  5.25  0.0312             5.2188   \n",
      "1     1088638.0  1.3600  61.3000  9100000.00  5.52  0.0312             5.4888   \n",
      "2      618081.0  1.3100  66.0000  6650000.00  5.45  0.0312             5.4188   \n",
      "3      260695.0  1.5500  64.2000  2600000.00  5.21  0.1112             5.0988   \n",
      "4      607133.0  1.2600  65.8000  6500000.00  5.29  0.0312             5.2588   \n",
      "...         ...     ...      ...         ...   ...     ...                ...   \n",
      "4788   156294.0  1.4442  54.1815  1029447.80  7.40  0.0624             7.3376   \n",
      "4789   172837.0  1.3260  61.6591  1257845.64  7.40  0.0624             7.3376   \n",
      "4790   104557.0  1.2949  67.2535   823855.65  7.50  0.0624             7.4376   \n",
      "4791   737888.0  1.3268  73.3318  5679548.69  8.28  0.0624             8.2176   \n",
      "4792   482735.0  1.2779  72.5958  3629791.06  8.35  0.0624             8.2876   \n",
      "\n",
      "      Year Built  Renovation  Occupancy    ZipPop          CR        CS  \\\n",
      "0         1998.0       100.0    22919.0  7.663725  351.880464  1.136903   \n",
      "1         1984.0        95.4    23129.0  8.779339  463.441807  1.502204   \n",
      "2         2001.0        87.2    32504.0  7.358107  293.888839  1.076208   \n",
      "3         1965.0       100.0    32376.0  7.781940  353.971808  3.315033   \n",
      "4         1970.0       100.0    12942.0  7.404061  316.183875  2.961139   \n",
      "...          ...         ...        ...       ...         ...       ...   \n",
      "4788      1998.0       100.0    31034.0  8.226000  172.282540  0.932858   \n",
      "4789      1987.0       100.0     6765.0  8.472402  228.443321  0.734065   \n",
      "4790      1996.0       100.0    33297.0  8.535265  261.089031  0.797066   \n",
      "4791      1971.0       100.0    57521.0  9.527282  302.410751  1.125532   \n",
      "4792      1976.0       100.0    14366.0  9.654700  357.247778  1.364699   \n",
      "\n",
      "      CS Ratio  NOI Ratio  PV Ratio    IR  Loss  \n",
      "0     4.144921   0.143158  0.127688   5.0     1  \n",
      "1     4.144921   0.310453  0.242793  21.0     1  \n",
      "2     4.419219   0.110992  0.101224   2.0     1  \n",
      "3     4.242222   0.117658  0.080235  40.0     1  \n",
      "4     4.242222   0.274014  0.196397   4.0     1  \n",
      "...        ...        ...       ...   ...   ...  \n",
      "4788  6.503175   0.045500  0.041596   2.0     0  \n",
      "4789  6.187969   0.060435  0.059577  10.0     0  \n",
      "4790  5.924375   0.027389  0.024308   3.0     0  \n",
      "4791  6.503175   0.557808  0.509199   2.0     0  \n",
      "4792  6.082222   0.100925  0.081205   2.0     0  \n",
      "\n",
      "[4793 rows x 18 columns]>\n"
     ]
    }
   ],
   "source": [
    "print(dataset.keys)"
   ]
  },
  {
   "cell_type": "code",
   "execution_count": 16,
   "metadata": {},
   "outputs": [
    {
     "ename": "SyntaxError",
     "evalue": "Missing parentheses in call to 'print'. Did you mean print(dataset.columns)? (<ipython-input-16-228e01db7290>, line 1)",
     "output_type": "error",
     "traceback": [
      "\u001b[1;36m  File \u001b[1;32m\"<ipython-input-16-228e01db7290>\"\u001b[1;36m, line \u001b[1;32m1\u001b[0m\n\u001b[1;33m    print dataset.columns\u001b[0m\n\u001b[1;37m          ^\u001b[0m\n\u001b[1;31mSyntaxError\u001b[0m\u001b[1;31m:\u001b[0m Missing parentheses in call to 'print'. Did you mean print(dataset.columns)?\n"
     ]
    }
   ],
   "source": [
    "print dataset.columns"
   ]
  },
  {
   "cell_type": "code",
   "execution_count": 17,
   "metadata": {},
   "outputs": [
    {
     "name": "stdout",
     "output_type": "stream",
     "text": [
      "Index(['NOI', 'DSCR', 'LTV', 'Balance', 'Rate', 'Fee', 'Net Mortgage Rate',\n",
      "       'Year Built', 'Renovation', 'Occupancy', 'ZipPop', 'CR', 'CS',\n",
      "       'CS Ratio', 'NOI Ratio', 'PV Ratio', 'IR', 'Loss'],\n",
      "      dtype='object')\n"
     ]
    }
   ],
   "source": [
    "print(dataset.columns)"
   ]
  },
  {
   "cell_type": "code",
   "execution_count": 18,
   "metadata": {},
   "outputs": [
    {
     "name": "stdout",
     "output_type": "stream",
     "text": [
      "                                 OLS Regression Results                                \n",
      "=======================================================================================\n",
      "Dep. Variable:                   Loss   R-squared (uncentered):                   0.249\n",
      "Model:                            OLS   Adj. R-squared (uncentered):              0.247\n",
      "Method:                 Least Squares   F-statistic:                              99.11\n",
      "Date:                Thu, 27 Jan 2022   Prob (F-statistic):                   2.44e-282\n",
      "Time:                        11:12:58   Log-Likelihood:                         -2282.9\n",
      "No. Observations:                4793   AIC:                                      4598.\n",
      "Df Residuals:                    4777   BIC:                                      4701.\n",
      "Df Model:                          16                                                  \n",
      "Covariance Type:            nonrobust                                                  \n",
      "=====================================================================================\n",
      "                        coef    std err          t      P>|t|      [0.025      0.975]\n",
      "-------------------------------------------------------------------------------------\n",
      "NOI                3.183e-08   1.09e-08      2.924      0.003    1.05e-08    5.32e-08\n",
      "DSCR                 -0.0057      0.015     -0.393      0.694      -0.034       0.023\n",
      "LTV                   0.0065      0.001     11.656      0.000       0.005       0.008\n",
      "Balance           -3.614e-10   8.02e-10     -0.451      0.652   -1.93e-09    1.21e-09\n",
      "Rate                 -0.0045      0.069     -0.065      0.948      -0.140       0.131\n",
      "Fee                  -0.5175      0.208     -2.493      0.013      -0.925      -0.111\n",
      "Net Mortgage Rate     0.0159      0.068      0.234      0.815      -0.117       0.149\n",
      "Year Built          5.12e-06   4.68e-05      0.109      0.913   -8.66e-05    9.69e-05\n",
      "Renovation           -0.0029      0.001     -4.225      0.000      -0.004      -0.002\n",
      "Occupancy         -2.481e-07   3.41e-07     -0.727      0.467   -9.17e-07    4.21e-07\n",
      "ZipPop                0.0047      0.009      0.496      0.620      -0.014       0.023\n",
      "CR                 3.076e-05    8.7e-05      0.354      0.724      -0.000       0.000\n",
      "CS                   -0.0139      0.002     -8.016      0.000      -0.017      -0.010\n",
      "CS Ratio              0.0047      0.009      0.496      0.620      -0.014       0.023\n",
      "NOI Ratio            -0.0274      0.036     -0.767      0.443      -0.097       0.043\n",
      "PV Ratio             -0.1105      0.038     -2.911      0.004      -0.185      -0.036\n",
      "IR                   -0.0011      0.001     -2.102      0.036      -0.002   -7.24e-05\n",
      "==============================================================================\n",
      "Omnibus:                      884.183   Durbin-Watson:                   0.089\n",
      "Prob(Omnibus):                  0.000   Jarque-Bera (JB):             1480.717\n",
      "Skew:                           1.360   Prob(JB):                         0.00\n",
      "Kurtosis:                       3.128   Cond. No.                     9.47e+21\n",
      "==============================================================================\n",
      "\n",
      "Notes:\n",
      "[1] R² is computed without centering (uncentered) since the model does not contain a constant.\n",
      "[2] Standard Errors assume that the covariance matrix of the errors is correctly specified.\n",
      "[3] The smallest eigenvalue is 2.51e-26. This might indicate that there are\n",
      "strong multicollinearity problems or that the design matrix is singular.\n"
     ]
    }
   ],
   "source": [
    "## creating function to get model statistics\n",
    "import numpy as np\n",
    "import statsmodels.api as sm\n",
    "x_columns = ['NOI','DSCR','LTV','Balance','Rate','Fee','Net Mortgage Rate','Year Built','Renovation','Occupancy','ZipPop','CR','CS','CS Ratio','NOI Ratio','PV Ratio','IR']\n",
    "y = dataset[\"Loss\"]\n",
    "def get_stats():\n",
    "    x = dataset[x_columns]\n",
    "    results = sm.OLS(y, x).fit()\n",
    "    print(results.summary())\n",
    "get_stats()"
   ]
  },
  {
   "cell_type": "code",
   "execution_count": 19,
   "metadata": {},
   "outputs": [
    {
     "ename": "NameError",
     "evalue": "name 'sklearn' is not defined",
     "output_type": "error",
     "traceback": [
      "\u001b[1;31m---------------------------------------------------------------------------\u001b[0m",
      "\u001b[1;31mNameError\u001b[0m                                 Traceback (most recent call last)",
      "\u001b[1;32m<ipython-input-19-11f745e1acd8>\u001b[0m in \u001b[0;36m<module>\u001b[1;34m\u001b[0m\n\u001b[1;32m----> 1\u001b[1;33m \u001b[0msklearn\u001b[0m\u001b[1;33m.\u001b[0m\u001b[0mfeature_selection\u001b[0m\u001b[1;33m.\u001b[0m\u001b[0mRFE\u001b[0m\u001b[1;33m(\u001b[0m\u001b[0mdataset\u001b[0m\u001b[1;33m,\u001b[0m \u001b[0mn_features_to_select\u001b[0m\u001b[1;33m=\u001b[0m\u001b[0mNo10\u001b[0m\u001b[1;33m,\u001b[0m \u001b[0mstep\u001b[0m\u001b[1;33m=\u001b[0m\u001b[1;36m1\u001b[0m\u001b[1;33m,\u001b[0m \u001b[0mverbose\u001b[0m\u001b[1;33m=\u001b[0m\u001b[1;36m0\u001b[0m\u001b[1;33m,\u001b[0m \u001b[0mimportance_getter\u001b[0m\u001b[1;33m=\u001b[0m\u001b[1;34m'auto'\u001b[0m\u001b[1;33m)\u001b[0m\u001b[1;33m\u001b[0m\u001b[1;33m\u001b[0m\u001b[0m\n\u001b[0m",
      "\u001b[1;31mNameError\u001b[0m: name 'sklearn' is not defined"
     ]
    }
   ],
   "source": [
    "sklearn.feature_selection.RFE(dataset, n_features_to_select=No10, step=1, verbose=0, importance_getter='auto')"
   ]
  },
  {
   "cell_type": "code",
   "execution_count": 20,
   "metadata": {},
   "outputs": [
    {
     "ename": "AttributeError",
     "evalue": "module 'sklearn' has no attribute 'feature_selection'",
     "output_type": "error",
     "traceback": [
      "\u001b[1;31m---------------------------------------------------------------------------\u001b[0m",
      "\u001b[1;31mAttributeError\u001b[0m                            Traceback (most recent call last)",
      "\u001b[1;32m<ipython-input-20-1a14066dce47>\u001b[0m in \u001b[0;36m<module>\u001b[1;34m\u001b[0m\n\u001b[1;32m----> 1\u001b[1;33m \u001b[0msk\u001b[0m\u001b[1;33m.\u001b[0m\u001b[0mfeature_selection\u001b[0m\u001b[1;33m.\u001b[0m\u001b[0mRFE\u001b[0m\u001b[1;33m(\u001b[0m\u001b[0mdataset\u001b[0m\u001b[1;33m,\u001b[0m \u001b[0mn_features_to_select\u001b[0m\u001b[1;33m=\u001b[0m\u001b[0mNo10\u001b[0m\u001b[1;33m,\u001b[0m \u001b[0mstep\u001b[0m\u001b[1;33m=\u001b[0m\u001b[1;36m1\u001b[0m\u001b[1;33m,\u001b[0m \u001b[0mverbose\u001b[0m\u001b[1;33m=\u001b[0m\u001b[1;36m0\u001b[0m\u001b[1;33m,\u001b[0m \u001b[0mimportance_getter\u001b[0m\u001b[1;33m=\u001b[0m\u001b[1;34m'auto'\u001b[0m\u001b[1;33m)\u001b[0m\u001b[1;33m\u001b[0m\u001b[1;33m\u001b[0m\u001b[0m\n\u001b[0m",
      "\u001b[1;31mAttributeError\u001b[0m: module 'sklearn' has no attribute 'feature_selection'"
     ]
    }
   ],
   "source": [
    "sk.feature_selection.RFE(dataset, n_features_to_select=No10, step=1, verbose=0, importance_getter='auto')"
   ]
  },
  {
   "cell_type": "code",
   "execution_count": 22,
   "metadata": {},
   "outputs": [
    {
     "name": "stdout",
     "output_type": "stream",
     "text": [
      "Note: you may need to restart the kernel to use updated packages.\n"
     ]
    },
    {
     "name": "stderr",
     "output_type": "stream",
     "text": [
      "ERROR: Could not find a version that satisfies the requirement sklearn.feature_selection.text (from versions: none)\n",
      "ERROR: No matching distribution found for sklearn.feature_selection.text\n"
     ]
    }
   ],
   "source": [
    "pip install sklearn.feature_selection.text"
   ]
  },
  {
   "cell_type": "code",
   "execution_count": 23,
   "metadata": {},
   "outputs": [
    {
     "name": "stdout",
     "output_type": "stream",
     "text": [
      "Note: you may need to restart the kernel to use updated packages.\n"
     ]
    },
    {
     "name": "stderr",
     "output_type": "stream",
     "text": [
      "ERROR: Could not find a version that satisfies the requirement sklearn.feature_selection.RFE (from versions: none)\n",
      "ERROR: No matching distribution found for sklearn.feature_selection.RFE\n"
     ]
    }
   ],
   "source": [
    "pip install sklearn.feature_selection.RFE"
   ]
  },
  {
   "cell_type": "code",
   "execution_count": 24,
   "metadata": {},
   "outputs": [],
   "source": [
    "from sklearn.feature_selection import RFE"
   ]
  },
  {
   "cell_type": "code",
   "execution_count": 27,
   "metadata": {},
   "outputs": [
    {
     "data": {
      "text/plain": [
       "RFE(estimator=            NOI    DSCR      LTV     Balance  Rate     Fee  Net Mortgage Rate  \\\n",
       "0      697399.0  1.3500  69.4000  7250000.00  5.25  0.0312             5.2188   \n",
       "1     1088638.0  1.3600  61.3000  9100000.00  5.52  0.0312             5.4888   \n",
       "2      618081.0  1.3100  66.0000  6650000.00  5.45  0.0312             5.4188   \n",
       "3      260695.0  1.5500  64.2000  2600000.00  5.21  0.1112             5.0988   \n",
       "4      607133.0  1.2600  65.8000  6500000.00  5.29  0.0312             5.2588   \n",
       "...         ...     ...      ...         ...   ...     ...                ...   \n",
       "4788   156294.0  1.4442  54.1815  102944...\n",
       "0     4.144921   0.143158  0.127688   5.0     1  \n",
       "1     4.144921   0.310453  0.242793  21.0     1  \n",
       "2     4.419219   0.110992  0.101224   2.0     1  \n",
       "3     4.242222   0.117658  0.080235  40.0     1  \n",
       "4     4.242222   0.274014  0.196397   4.0     1  \n",
       "...        ...        ...       ...   ...   ...  \n",
       "4788  6.503175   0.045500  0.041596   2.0     0  \n",
       "4789  6.187969   0.060435  0.059577  10.0     0  \n",
       "4790  5.924375   0.027389  0.024308   3.0     0  \n",
       "4791  6.503175   0.557808  0.509199   2.0     0  \n",
       "4792  6.082222   0.100925  0.081205   2.0     0  \n",
       "\n",
       "[4793 rows x 18 columns],\n",
       "    n_features_to_select=10)"
      ]
     },
     "execution_count": 27,
     "metadata": {},
     "output_type": "execute_result"
    }
   ],
   "source": [
    "RFE(dataset, n_features_to_select=10, step=1, verbose=0)"
   ]
  },
  {
   "cell_type": "code",
   "execution_count": 30,
   "metadata": {},
   "outputs": [
    {
     "ename": "NameError",
     "evalue": "name 'SVR' is not defined",
     "output_type": "error",
     "traceback": [
      "\u001b[1;31m---------------------------------------------------------------------------\u001b[0m",
      "\u001b[1;31mNameError\u001b[0m                                 Traceback (most recent call last)",
      "\u001b[1;32m<ipython-input-30-611138e60393>\u001b[0m in \u001b[0;36m<module>\u001b[1;34m\u001b[0m\n\u001b[0;32m      1\u001b[0m \u001b[0mx_columns\u001b[0m \u001b[1;33m=\u001b[0m \u001b[1;33m[\u001b[0m\u001b[1;34m'NOI'\u001b[0m\u001b[1;33m,\u001b[0m\u001b[1;34m'DSCR'\u001b[0m\u001b[1;33m,\u001b[0m\u001b[1;34m'LTV'\u001b[0m\u001b[1;33m,\u001b[0m\u001b[1;34m'Balance'\u001b[0m\u001b[1;33m,\u001b[0m\u001b[1;34m'Rate'\u001b[0m\u001b[1;33m,\u001b[0m\u001b[1;34m'Fee'\u001b[0m\u001b[1;33m,\u001b[0m\u001b[1;34m'Net Mortgage Rate'\u001b[0m\u001b[1;33m,\u001b[0m\u001b[1;34m'Year Built'\u001b[0m\u001b[1;33m,\u001b[0m\u001b[1;34m'Renovation'\u001b[0m\u001b[1;33m,\u001b[0m\u001b[1;34m'Occupancy'\u001b[0m\u001b[1;33m,\u001b[0m\u001b[1;34m'ZipPop'\u001b[0m\u001b[1;33m,\u001b[0m\u001b[1;34m'CR'\u001b[0m\u001b[1;33m,\u001b[0m\u001b[1;34m'CS'\u001b[0m\u001b[1;33m,\u001b[0m\u001b[1;34m'CS Ratio'\u001b[0m\u001b[1;33m,\u001b[0m\u001b[1;34m'NOI Ratio'\u001b[0m\u001b[1;33m,\u001b[0m\u001b[1;34m'PV Ratio'\u001b[0m\u001b[1;33m,\u001b[0m\u001b[1;34m'IR'\u001b[0m\u001b[1;33m]\u001b[0m\u001b[1;33m\u001b[0m\u001b[1;33m\u001b[0m\u001b[0m\n\u001b[0;32m      2\u001b[0m \u001b[0my\u001b[0m \u001b[1;33m=\u001b[0m \u001b[0mdataset\u001b[0m\u001b[1;33m[\u001b[0m\u001b[1;34m\"Loss\"\u001b[0m\u001b[1;33m]\u001b[0m\u001b[1;33m\u001b[0m\u001b[1;33m\u001b[0m\u001b[0m\n\u001b[1;32m----> 3\u001b[1;33m \u001b[0mestimator\u001b[0m \u001b[1;33m=\u001b[0m \u001b[0mSVR\u001b[0m\u001b[1;33m(\u001b[0m\u001b[0mkernel\u001b[0m\u001b[1;33m=\u001b[0m\u001b[1;34m\"linear\"\u001b[0m\u001b[1;33m)\u001b[0m\u001b[1;33m\u001b[0m\u001b[1;33m\u001b[0m\u001b[0m\n\u001b[0m\u001b[0;32m      4\u001b[0m \u001b[0mselector\u001b[0m \u001b[1;33m=\u001b[0m \u001b[0mRFE\u001b[0m\u001b[1;33m(\u001b[0m\u001b[0mestimator\u001b[0m\u001b[1;33m,\u001b[0m \u001b[0mn_features_to_select\u001b[0m\u001b[1;33m=\u001b[0m\u001b[1;36m5\u001b[0m\u001b[1;33m,\u001b[0m \u001b[0mstep\u001b[0m\u001b[1;33m=\u001b[0m\u001b[1;36m1\u001b[0m\u001b[1;33m)\u001b[0m\u001b[1;33m\u001b[0m\u001b[1;33m\u001b[0m\u001b[0m\n\u001b[0;32m      5\u001b[0m \u001b[0mselector\u001b[0m \u001b[1;33m=\u001b[0m \u001b[0mselector\u001b[0m\u001b[1;33m.\u001b[0m\u001b[0mfit\u001b[0m\u001b[1;33m(\u001b[0m\u001b[0mdataset\u001b[0m\u001b[1;33m[\u001b[0m\u001b[0mx_columns\u001b[0m\u001b[1;33m]\u001b[0m\u001b[1;33m,\u001b[0m \u001b[0my\u001b[0m\u001b[1;33m)\u001b[0m\u001b[1;33m\u001b[0m\u001b[1;33m\u001b[0m\u001b[0m\n",
      "\u001b[1;31mNameError\u001b[0m: name 'SVR' is not defined"
     ]
    }
   ],
   "source": [
    "x_columns = ['NOI','DSCR','LTV','Balance','Rate','Fee','Net Mortgage Rate','Year Built','Renovation','Occupancy','ZipPop','CR','CS','CS Ratio','NOI Ratio','PV Ratio','IR']\n",
    "y = dataset[\"Loss\"]\n",
    "estimator = SVR(kernel=\"linear\")\n",
    "selector = RFE(estimator, n_features_to_select=5, step=1)\n",
    "selector = selector.fit(dataset[x_columns], y)\n",
    "selector.support_"
   ]
  },
  {
   "cell_type": "code",
   "execution_count": null,
   "metadata": {},
   "outputs": [],
   "source": [
    "from sklearn.feature_selection import RFE\n",
    "from sklearn.svm import SVR\n",
    "x_columns = ['NOI','DSCR','LTV','Balance','Rate','Fee','Net Mortgage Rate','Year Built','Renovation','Occupancy','ZipPop','CR','CS','CS Ratio','NOI Ratio','PV Ratio','IR']\n",
    "y = dataset[\"Loss\"]\n",
    "estimator = SVR(kernel=\"linear\")\n",
    "selector = RFE(estimator, n_features_to_select=5, step=1)\n",
    "selector = selector.fit(dataset[x_columns], y)\n",
    "selector.support_"
   ]
  },
  {
   "cell_type": "code",
   "execution_count": null,
   "metadata": {},
   "outputs": [],
   "source": [
    "from sklearn.feature_selection import RFE\n",
    "from sklearn.svm import SVR\n",
    "x_columns = ['NOI','DSCR','LTV','Balance','Rate','Fee','Net Mortgage Rate','Year Built','Renovation','Occupancy','ZipPop','CR','CS','CS Ratio','NOI Ratio','PV Ratio','IR']\n",
    "y = dataset[\"Loss\"]\n",
    "estimator = SVR(kernel=\"linear\")\n",
    "selector = RFE(estimator, n_features_to_select=1, step=1)\n",
    "selector = selector.fit(dataset[x_columns], y)\n",
    "selector.support_"
   ]
  },
  {
   "cell_type": "code",
   "execution_count": null,
   "metadata": {},
   "outputs": [],
   "source": [
    "from sklearn.feature_selection import RFE\n",
    "from sklearn.svm import SVR"
   ]
  }
 ],
 "metadata": {
  "kernelspec": {
   "display_name": "Python 3",
   "language": "python",
   "name": "python3"
  },
  "language_info": {
   "codemirror_mode": {
    "name": "ipython",
    "version": 3
   },
   "file_extension": ".py",
   "mimetype": "text/x-python",
   "name": "python",
   "nbconvert_exporter": "python",
   "pygments_lexer": "ipython3",
   "version": "3.8.5"
  }
 },
 "nbformat": 4,
 "nbformat_minor": 4
}
